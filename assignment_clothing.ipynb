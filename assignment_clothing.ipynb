{
 "cells": [
  {
   "cell_type": "markdown",
   "metadata": {},
   "source": [
    "# Are you mad enough to sell more clothes?\n",
    "\n",
    "<img src=\"https://tablet-mag-images.b-cdn.net/production/458696ee8cc3614bf3014fc487f2ad4c33d1ca62-620x416.jpg?w=1200&q=70&auto=format&dpr=1\"/>"
   ]
  },
  {
   "cell_type": "code",
   "execution_count": 7,
   "metadata": {},
   "outputs": [],
   "source": [
    "%matplotlib inline\n",
    "import numpy as np\n",
    "import scipy as sp\n",
    "import matplotlib as mpl\n",
    "import matplotlib.cm as cm\n",
    "import matplotlib.pyplot as plt\n",
    "import pandas as pd\n",
    "\n",
    "import seaborn as sns"
   ]
  },
  {
   "cell_type": "code",
   "execution_count": 8,
   "metadata": {},
   "outputs": [
    {
     "ename": "ModuleNotFoundError",
     "evalue": "No module named 'sklearn'",
     "output_type": "error",
     "traceback": [
      "\u001b[0;31m---------------------------------------------------------------------------\u001b[0m",
      "\u001b[0;31mModuleNotFoundError\u001b[0m                       Traceback (most recent call last)",
      "Cell \u001b[0;32mIn[8], line 1\u001b[0m\n\u001b[0;32m----> 1\u001b[0m \u001b[38;5;28;01mfrom\u001b[39;00m \u001b[38;5;21;01msklearn\u001b[39;00m\u001b[38;5;21;01m.\u001b[39;00m\u001b[38;5;21;01mmodel_selection\u001b[39;00m \u001b[38;5;28;01mimport\u001b[39;00m GridSearchCV\n\u001b[1;32m      2\u001b[0m \u001b[38;5;28;01mfrom\u001b[39;00m \u001b[38;5;21;01msklearn\u001b[39;00m\u001b[38;5;21;01m.\u001b[39;00m\u001b[38;5;21;01mmodel_selection\u001b[39;00m \u001b[38;5;28;01mimport\u001b[39;00m train_test_split\n\u001b[1;32m      3\u001b[0m \u001b[38;5;28;01mfrom\u001b[39;00m \u001b[38;5;21;01msklearn\u001b[39;00m\u001b[38;5;21;01m.\u001b[39;00m\u001b[38;5;21;01mmetrics\u001b[39;00m \u001b[38;5;28;01mimport\u001b[39;00m confusion_matrix\n",
      "\u001b[0;31mModuleNotFoundError\u001b[0m: No module named 'sklearn'"
     ]
    }
   ],
   "source": [
    "from sklearn.model_selection import GridSearchCV\n",
    "from sklearn.model_selection import train_test_split\n",
    "from sklearn.metrics import confusion_matrix\n",
    "def cv_optimize(clf, parameters, X, y, n_jobs=1, n_folds=5, score_func=None):\n",
    "    if score_func:\n",
    "        gs = GridSearchCV(clf, param_grid=parameters, cv=n_folds, n_jobs=n_jobs, scoring=score_func)\n",
    "    else:\n",
    "        gs = GridSearchCV(clf, param_grid=parameters, n_jobs=n_jobs, cv=n_folds)\n",
    "    gs.fit(X, y)\n",
    "    print(\"BEST\", gs.best_params_, gs.best_score_)\n",
    "    best = gs.best_estimator_\n",
    "    return best\n",
    "def do_classify(clf, parameters, indf, featurenames, targetname, target1val,mode=\"mask\", reuse_split=None, score_func=None, n_folds=5, n_jobs=1):\n",
    "    \"\"\"\n",
    "    Classification made simple (or is it more complex?)\n",
    "    THIS WORKS FOR 2 Class Classification problems only\n",
    "    parameters: parameter grid in the sklearn style\n",
    "    indf: dataframe you feed in\n",
    "    featurenames: list of columnames corresponding to features you want in your model\n",
    "    targetname: the column you want to use as target\n",
    "    target1val: the value of the \"targetname\" column\n",
    "    mode: mask or split. mask a boolean mask to choose train/test or\n",
    "        split a dictionary with keys Xtrain/Xtest/ytrain/ytest and values existing\n",
    "        training and test sets in the canonical form\n",
    "    reuse_split: the actual mask above or the actuall ditionary, depending upon which\n",
    "        modu you chose\n",
    "    score_func: this is from GridSearchCV\n",
    "    n_folds: cross val folds\n",
    "    n_jobs: mumber of processes to use in cross-validation\n",
    "    \n",
    "    We return classifier, and the train and test sets. We print accuracies\n",
    "    and the confusion matrix\n",
    "    \"\"\"\n",
    "    subdf=indf[featurenames]\n",
    "    X=subdf.values\n",
    "    y=(indf[targetname].values==target1val)*1\n",
    "    if mode==\"mask\":\n",
    "        print(\"using mask\")\n",
    "        mask=reuse_split\n",
    "        Xtrain, Xtest, ytrain, ytest = X[mask], X[~mask], y[mask], y[~mask]\n",
    "    else:\n",
    "        print(\"using reuse split\")\n",
    "        Xtrain, Xtest, ytrain, ytest = reuse_split['Xtrain'], reuse_split['Xtest'], reuse_split['ytrain'], reuse_split['ytest']\n",
    "    if parameters:\n",
    "        clf = cv_optimize(clf, parameters, Xtrain, ytrain, n_jobs=n_jobs, n_folds=n_folds, score_func=score_func)\n",
    "    clf=clf.fit(Xtrain, ytrain)\n",
    "    training_accuracy = clf.score(Xtrain, ytrain)\n",
    "    test_accuracy = clf.score(Xtest, ytest)\n",
    "    print(\"############# based on standard predict ################\")\n",
    "    print(\"Accuracy on training data: %0.2f\" % (training_accuracy))\n",
    "    print(\"Accuracy on test data:     %0.2f\" % (test_accuracy))\n",
    "    print(confusion_matrix(ytest, clf.predict(Xtest)))\n",
    "    print(\"########################################################\")\n",
    "    return clf, Xtrain, ytrain, Xtest, ytest"
   ]
  },
  {
   "cell_type": "markdown",
   "metadata": {},
   "source": [
    "The data set is from a fairly high end clothing chain store in the North East.\n",
    "\n",
    "You are a data analyst for this store. Your job is to write a report to the pointy-haired boss in which you show how you can increase the store's profit by being targeted about whom to send a catalog in the mail. Yes, you are in direct marketing. You are a quant amongst the \"mad men\". \n",
    "\n",
    "You need to explore and layout in simple terms, what the business needs to spend to increase its profit. In other words, you need a budget, and its your job to figure out how much as well.\n",
    "\n",
    "We'll guide you through the process. There is much more you can explore, of-course, but this homework will walk you through an entire real world classification and analysis process with a finite amount of work and computer runtime.\n",
    "\n",
    "You will\n",
    "\n",
    "1. clean the data, and create some features, learning about how to standardize the data\n",
    "2. write a classifier on this data, including cross validation, and learn to write a function to encapsulate this process\n",
    "3. learn how to compare this classifier to baseline classifiers that you better beat using a profit metric rather than an accuracy metric\n",
    "4. understand and use prediction thresholds\n",
    "5. understand the use a ROC curve, especially in the situation where probability thresholds are not possible\n",
    "6. learn to use a profit curve to pick a model, thus directly reflecting the metric of importance\n",
    "7. learn a bit about feature selection, and why we need to pipeline feature selection and classification together, in an attempt to improve a classifier\n",
    "8. balance a data set to improve the performance of a SVM classifier\n",
    "9. implement a kernelized SVM to improve performance further.\n",
    "10. make a final comparison of classifiers and make a presentation for your boss.\n",
    "\n",
    "This homework is long because we are walking you through the entire process, start early! There are some parts of it that can be solved by understanding, copying, and slightly modifying code from the lab.  Feel free to do that. Pay attention to any difference in signature in the lab functions to the ones here.\n",
    "\n",
    "The idea for this homework, and the attendant data set is taken from the book \"Data Mining Methods and Models\" by [Larose](http://www.dataminingconsultant.com/DMMM.htm). Henceforth we refer to this book as DMMM. There is an analysis of the data set there as well (ch7, the book is available online through our library), which you might be interested in. It is far more detailed than this homework, talking about log-normal data transformations, amongst other things.\n",
    "\n",
    "(Image credit: www.tabletmag.com)"
   ]
  },
  {
   "cell_type": "markdown",
   "metadata": {},
   "source": [
    "(This documentation of the fields is taken verbatim from DMMM).\n",
    "\n",
    "The clothing-store data set contains information about 28,799 customers in the following 51 fields:\n",
    "\n",
    "- Customer ID: unique, encrypted customer identification `HHKEY`\n",
    "- Zip code `ZIP_CODE`\n",
    "- Number of purchase visits `FRE`\n",
    "- Total net sales `MON`\n",
    "- Average amount spent per visit `AVRG`\n",
    "- Amount spent at each of four different franchises (four variables) `AMSPEND`, `PSSPEND`, `CCSPEND`, `AXSPEND`\n",
    "- Amount spent in the past month, the past three months, and the past six months `OMONSPEND`, `TMONSPEND`, `SMONSPEND`\n",
    "- Amount spent the same period last year `PREVPD`\n",
    "- Gross margin percentage `GMP`\n",
    "- Number of marketing promotions on file `PROMOS`\n",
    "- Number of days the customer has been on file `DAYS`\n",
    "- Number of days between purchases `FREDAYS`\n",
    "- Markdown percentage on customer purchases `MARKDOWN`\n",
    "- Number of different product classes purchased `CLASSES`\n",
    "- Number of coupons used by the customer `COUPONS`\n",
    "- Total number of individual items purchased by the customer `STYLES`\n",
    "- Number of stores the customer shopped at `STORES`\n",
    "- Number of promotions mailed in the past year `MAILED`\n",
    "- Number of promotions responded to in the past year `RESPONDED`\n",
    "- Promotion response rate for the past year `RESPONSERATE`\n",
    "- Product uniformity (low score = diverse spending patterns) `HI`\n",
    "- Lifetime average time between visits `LTFREDAYS`\n",
    "- Microvision lifestyle cluster type `CLUSTYPE`\n",
    "- Percent of returns `PERCRET`\n",
    "- Flag: credit card user `CC_CARD`\n",
    "- Flag: valid phone number on file `VALPHON`\n",
    "- Flag: Web shopper `WEB`\n",
    "- 15 variables providing the percentages spent by the customer on specific classes of clothing, including sweaters, knit tops, knit dresses, blouses, jackets, career pants, casual pants, shirts, dresses, suits, outerwear, jewelry, fashion, legwear, and the collectibles line; (`P*`, `PJACKETS` for example) also a variable showing the brand of choice (encrypted)\n",
    "- **Target variable**: response to promotion `RESP`...this is our **response** or **y**.\n",
    "\n",
    "\n",
    "These data are based on a direct mail marketing campaign conducted last year. We want to use this information to develop classification models for this year’s marketing campaign."
   ]
  },
  {
   "cell_type": "markdown",
   "metadata": {},
   "source": [
    "## Features and a simple classifier"
   ]
  },
  {
   "cell_type": "markdown",
   "metadata": {},
   "source": [
    "### Get, check, clean,  the data"
   ]
  },
  {
   "cell_type": "code",
   "execution_count": null,
   "metadata": {
    "collapsed": false,
    "jupyter": {
     "outputs_hidden": false
    }
   },
   "outputs": [],
   "source": [
    "df=pd.read_csv(\"./data/Clothing_Store.csv\")\n",
    "df.head()"
   ]
  },
  {
   "cell_type": "code",
   "execution_count": null,
   "metadata": {
    "collapsed": false,
    "jupyter": {
     "outputs_hidden": false
    }
   },
   "outputs": [],
   "source": [
    "df.shape"
   ]
  },
  {
   "cell_type": "markdown",
   "metadata": {},
   "source": [
    "We'll delete some columns we dont intend to use, and which I couldnt quite figure out what they were from the original data set and documentation."
   ]
  },
  {
   "cell_type": "code",
   "execution_count": null,
   "metadata": {
    "collapsed": false,
    "jupyter": {
     "outputs_hidden": false
    }
   },
   "outputs": [],
   "source": [
    "del df['CLUSTYPE']\n",
    "del df['HHKEY'], df['ZIP_CODE'], df['REC'], df['PC_CALC20'] \n",
    "del df['STORELOY']"
   ]
  },
  {
   "cell_type": "code",
   "execution_count": null,
   "metadata": {
    "collapsed": false,
    "jupyter": {
     "outputs_hidden": false
    }
   },
   "outputs": [],
   "source": [
    "df.columns"
   ]
  },
  {
   "cell_type": "markdown",
   "metadata": {},
   "source": [
    "Make a copy of the dataframe to make transformations to."
   ]
  },
  {
   "cell_type": "code",
   "execution_count": null,
   "metadata": {},
   "outputs": [],
   "source": [
    "dftouse=df.copy()"
   ]
  },
  {
   "cell_type": "markdown",
   "metadata": {},
   "source": [
    "### Feature Engineering"
   ]
  },
  {
   "cell_type": "markdown",
   "metadata": {},
   "source": [
    "Feature Engineering is one of the most important \"human inputs\" that go into machine learning. Machines can run algorithms, but if you feed in garbage, you will get out garbage. The features that are important, or the feature combinations that might be useful in a problem, are inputs that humans can use to help the machine along. Domain knowledge is particularly useful. \n",
    "\n",
    "We first list the columns that are percentages:"
   ]
  },
  {
   "cell_type": "code",
   "execution_count": null,
   "metadata": {
    "collapsed": false,
    "jupyter": {
     "outputs_hidden": false
    }
   },
   "outputs": [],
   "source": [
    "PERCENT_VARS=[ u'PSWEATERS', u'PKNIT_TOPS', u'PKNIT_DRES', u'PBLOUSES', u'PJACKETS', u'PCAR_PNTS', u'PCAS_PNTS', u'PSHIRTS', \n",
    "              u'PDRESSES', u'PSUITS', u'POUTERWEAR', u'PJEWELRY', u'PFASHION', u'PLEGWEAR', u'PCOLLSPND']\n",
    "len(PERCENT_VARS)"
   ]
  },
  {
   "cell_type": "markdown",
   "metadata": {},
   "source": [
    "Next, we look for columns where the existence or lack thereof of a zero may be important in a classifier. We used our intuition to make these choices, believing that there is additional information encoded in say, `PERCRET`: if you never returned anything you might not be a budget shopper and thus someone who might have the money to shop quite a bit..."
   ]
  },
  {
   "cell_type": "code",
   "execution_count": null,
   "metadata": {},
   "outputs": [],
   "source": [
    "ZERO_IMPORTANT_VARS = [u'PREVPD', u'AMSPEND', u'PSSPEND', u'CCSPEND', u'AXSPEND', u'RESPONDED', u'PERCRET']"
   ]
  },
  {
   "cell_type": "markdown",
   "metadata": {},
   "source": [
    "We also list the columns with floating-point or integer variables that are amenable to standardization"
   ]
  },
  {
   "cell_type": "code",
   "execution_count": null,
   "metadata": {},
   "outputs": [],
   "source": [
    "STANDARDIZABLE = PERCENT_VARS + ZERO_IMPORTANT_VARS + [u'FRE', u'MON',  u'AVRG', u'GMP', u'PROMOS', u'DAYS', u'FREDAYS', u'MARKDOWN', u'CLASSES', u'COUPONS', u'STYLES',  u'MAILED',  u'RESPONSERATE', u'HI', u'LTFREDAY']"
   ]
  },
  {
   "cell_type": "markdown",
   "metadata": {},
   "source": [
    "Now, an **indicator variable** is one which takes a few, usually 2 values (1/0, True/False) to code the existence or lack thereof of a property or feature. We look for existing indicators:"
   ]
  },
  {
   "cell_type": "code",
   "execution_count": null,
   "metadata": {
    "collapsed": false,
    "jupyter": {
     "outputs_hidden": false
    }
   },
   "outputs": [],
   "source": [
    "for v in df.columns:\n",
    "    l=df[v].unique()\n",
    "    if len(l) <= 10:\n",
    "        print(v, l)"
   ]
  },
  {
   "cell_type": "markdown",
   "metadata": {},
   "source": [
    "#### Zero important indicators"
   ]
  },
  {
   "cell_type": "markdown",
   "metadata": {},
   "source": [
    "We encode VALPHON, PERCENT_VARS, and ZERO_IMPORTANT_VARS as indicators. By doing this we are saying: the fact that these features are non-zero carries additional importance as compared to their values.\n",
    "\n",
    "We maintain a global list INDICATORS in which the names of these columns are stored, prepending an `i_` to each of these variables to denote that they are indicators.\n",
    "\n",
    "Note that all changes are now being made to the `dftouse` dataframe."
   ]
  },
  {
   "cell_type": "code",
   "execution_count": null,
   "metadata": {
    "collapsed": false,
    "jupyter": {
     "outputs_hidden": false
    }
   },
   "outputs": [],
   "source": [
    "# rename some indicators and make them all 1-0\n",
    "dftouse['i_VALPHON']=(df.VALPHON=='Y')*1\n",
    "del dftouse['VALPHON']\n",
    "dftouse.rename(columns={'WEB':'i_WEB', 'CC_CARD':'i_CC_CARD'}, inplace=True)\n",
    "INDICATORS=['i_VALPHON','i_WEB','i_CC_CARD']"
   ]
  },
  {
   "cell_type": "markdown",
   "metadata": {},
   "source": [
    "We then take the `ZERO_IMPORTANT_VARS`, the ones we thought where presence or absence was important, and create indicators from them"
   ]
  },
  {
   "cell_type": "code",
   "execution_count": null,
   "metadata": {
    "collapsed": false,
    "jupyter": {
     "outputs_hidden": false
    }
   },
   "outputs": [],
   "source": [
    "for p in ZERO_IMPORTANT_VARS:\n",
    "    dftouse['i_'+p]=(df[p] > 0.0)*1\n",
    "    INDICATORS.append('i_'+p)"
   ]
  },
  {
   "cell_type": "markdown",
   "metadata": {},
   "source": [
    "And then we create indicators for each of the percent variables `PERCENT_VARS` (following Larose's ch7), in the hope that the presence or absence of buying a particular clothing style such as blouses makes a difference..."
   ]
  },
  {
   "cell_type": "code",
   "execution_count": null,
   "metadata": {},
   "outputs": [],
   "source": [
    "for p in PERCENT_VARS:\n",
    "    dftouse['i_'+p]=(df[p] > 0.0)*1\n",
    "    INDICATORS.append('i_'+p)"
   ]
  },
  {
   "cell_type": "markdown",
   "metadata": {},
   "source": [
    "#### Combine some features "
   ]
  },
  {
   "cell_type": "markdown",
   "metadata": {},
   "source": [
    "We do this to communicate clearly information about recentness and savings\n",
    "\n",
    "We add two more indicators corresponding to recent spending, and recent use of a savings mechanism."
   ]
  },
  {
   "cell_type": "code",
   "execution_count": null,
   "metadata": {
    "collapsed": false,
    "jupyter": {
     "outputs_hidden": false
    }
   },
   "outputs": [],
   "source": [
    "#create recent usage (1 month and 3 month),  sale-shopper (markdown+coupon)\n",
    "dftouse[\"i_RECENT\"]=1*((df.OMONSPEND > 0) | (df.TMONSPEND > 0))\n",
    "dftouse[\"i_SAVER\"]=1*((df.MARKDOWN > 0) | (df.COUPONS > 0))\n",
    "INDICATORS.append(\"i_RECENT\")\n",
    "INDICATORS.append(\"i_SAVER\")"
   ]
  },
  {
   "cell_type": "markdown",
   "metadata": {},
   "source": [
    "Lets see what we now have..."
   ]
  },
  {
   "cell_type": "code",
   "execution_count": null,
   "metadata": {
    "collapsed": false,
    "jupyter": {
     "outputs_hidden": false
    }
   },
   "outputs": [],
   "source": [
    "dftouse.head()"
   ]
  },
  {
   "cell_type": "code",
   "execution_count": null,
   "metadata": {
    "collapsed": false,
    "jupyter": {
     "outputs_hidden": false
    }
   },
   "outputs": [],
   "source": [
    "dftouse.shape"
   ]
  },
  {
   "cell_type": "markdown",
   "metadata": {},
   "source": [
    "Clearly we've currently expanded the number of features we have in an attempt to pit in information in the form of indicators which communicate additional distinguishing (in our opinion)."
   ]
  },
  {
   "cell_type": "markdown",
   "metadata": {},
   "source": [
    "### Test and Training Sets, and Standardization"
   ]
  },
  {
   "cell_type": "markdown",
   "metadata": {},
   "source": [
    "We standardize test and training sets separately. Specifically, we wish to standardize the non-indicator columns on both the test and training sets, by subtracting out the mean of the training set from the value, and dividing by the standard deviation of the training set. This helps us put all the continuous variables on the same scale.\n",
    "\n",
    "(There is another reason this might be useful. One optimization which we dont do in this homework but which is useful is to take the log of all positive continuous variables. This makes data look more \"normal\" which can be useful in some algorithms, and then such standardization can basically be thought of in units of standard deviations of the normal distribution)"
   ]
  },
  {
   "cell_type": "markdown",
   "metadata": {},
   "source": [
    "#### Q1. Why do we do this standardization on the two sets separately?"
   ]
  },
  {
   "cell_type": "markdown",
   "metadata": {},
   "source": [
    "(Hint: what happens to the purity of the training data if we standardize using the entire dataset?)"
   ]
  },
  {
   "cell_type": "markdown",
   "metadata": {},
   "source": [
    "*your answer here*\n",
    "The reason we standardize the training and test sets separately is to avoid data leakage. Data leakage occurs when information from the test set is inadvertently used to influence the training process. If the entire dataset was used to compute the mean and standard deviation for standardization, these statistics would implicitly contain information from the test set. This could lead to the model indirectly learning some characteristics about the test data, thereby giving an overly optimistic estimate of the model's performance on genuinely unseen data.\n"
   ]
  },
  {
   "cell_type": "markdown",
   "metadata": {},
   "source": [
    "We'll split the dataset and create a training and test mask."
   ]
  },
  {
   "cell_type": "code",
   "execution_count": null,
   "metadata": {},
   "outputs": [],
   "source": [
    "from sklearn.model_selection import train_test_split\n",
    "itrain, itest = train_test_split(range(dftouse.shape[0]), train_size=0.7, random_state=1983)"
   ]
  },
  {
   "cell_type": "code",
   "execution_count": null,
   "metadata": {
    "collapsed": false,
    "jupyter": {
     "outputs_hidden": false
    }
   },
   "outputs": [],
   "source": [
    "mask=np.ones(dftouse.shape[0], dtype='int')\n",
    "mask[itrain]=1\n",
    "mask[itest]=0\n",
    "mask = (mask==1)"
   ]
  },
  {
   "cell_type": "code",
   "execution_count": null,
   "metadata": {
    "collapsed": false,
    "jupyter": {
     "outputs_hidden": false
    }
   },
   "outputs": [],
   "source": [
    "mask"
   ]
  },
  {
   "cell_type": "code",
   "execution_count": null,
   "metadata": {
    "collapsed": false,
    "jupyter": {
     "outputs_hidden": false
    }
   },
   "outputs": [],
   "source": [
    "mask.shape, mask.sum()"
   ]
  },
  {
   "cell_type": "code",
   "execution_count": null,
   "metadata": {},
   "outputs": [],
   "source": [
    "dftrain = df[mask]\n",
    "dftest = df[~mask]"
   ]
  },
  {
   "cell_type": "markdown",
   "metadata": {},
   "source": [
    "#### Q2. Explain how a mask is used above to split the data into training and test sets?"
   ]
  },
  {
   "cell_type": "markdown",
   "metadata": {},
   "source": [
    "*your answer here*\n",
    "\n",
    "A mask in the context of splitting data into training and test sets is essentially a boolean array or series used to filter or select rows from a DataFrame based on certain conditions. Here's how the mask is used in the code provided to split the dataset:\n",
    "\n",
    "Creating the Mask: A mask is created with initial values set to 1 (for training data). The function train_test_split is used to generate indices for the training and test sets based on the range of the dataset's length. These indices are then used to assign values within the mask array — 1 for training data and 0 for test data.\n",
    "Applying the Mask: The mask is then used to select rows from the DataFrame. When you use the mask (mask==1), it selects the rows that are marked as 1, which are designated for the training set. Conversely, using ~mask selects the rows where the mask is 0, thus selecting the test set."
   ]
  },
  {
   "cell_type": "markdown",
   "metadata": {},
   "source": [
    "#### We'll standardize the data"
   ]
  },
  {
   "cell_type": "markdown",
   "metadata": {},
   "source": [
    "We'll use `StandardScaler` from `sklearn.preprocessing` to \"fit\" the columns in `STANDRARDIZABLE` on the training set. Then use the resultant estimator to transform both the training and the test parts of each of the columns in the dataframe, replacing the old unstandardized values in the `STANDARDIZABLE` columns of `dftouse` by the new standardized ones."
   ]
  },
  {
   "cell_type": "code",
   "execution_count": null,
   "metadata": {
    "collapsed": false,
    "jupyter": {
     "outputs_hidden": false
    }
   },
   "outputs": [],
   "source": [
    "from sklearn.preprocessing import StandardScaler"
   ]
  },
  {
   "cell_type": "code",
   "execution_count": null,
   "metadata": {},
   "outputs": [],
   "source": [
    "scaler = StandardScaler().fit(dftrain[STANDARDIZABLE].values)\n",
    "outtrain=scaler.transform(dftrain[STANDARDIZABLE].values)\n",
    "outtest=scaler.fit_transform(dftest[STANDARDIZABLE].values)"
   ]
  },
  {
   "cell_type": "code",
   "execution_count": null,
   "metadata": {},
   "outputs": [],
   "source": [
    "dftouse.loc[mask, STANDARDIZABLE] = outtrain\n",
    "dftouse.loc[~mask, STANDARDIZABLE] = outtest"
   ]
  },
  {
   "cell_type": "markdown",
   "metadata": {},
   "source": [
    "We create a list `lcols` of the columns we will use in our classifier. This list should not contain the response `RESP`. How many features do we have?"
   ]
  },
  {
   "cell_type": "code",
   "execution_count": null,
   "metadata": {
    "collapsed": false,
    "jupyter": {
     "outputs_hidden": false
    }
   },
   "outputs": [],
   "source": [
    "lcols=list(dftouse.columns)\n",
    "lcols.remove(u'RESP')\n",
    "len(lcols)"
   ]
  },
  {
   "cell_type": "markdown",
   "metadata": {},
   "source": [
    "### Writing code for a classifier"
   ]
  },
  {
   "cell_type": "markdown",
   "metadata": {},
   "source": [
    "We will now take this data and write a classifier to predict the response, which is in the `RESP` column of `dftouse`. This response corresponds to asking the question: will a user targeted with our advertisement respond or not?"
   ]
  },
  {
   "cell_type": "markdown",
   "metadata": {},
   "source": [
    "#### Train a Logistic Regression on this data."
   ]
  },
  {
   "cell_type": "code",
   "execution_count": 4,
   "metadata": {},
   "outputs": [
    {
     "ename": "ModuleNotFoundError",
     "evalue": "No module named 'sklearn'",
     "output_type": "error",
     "traceback": [
      "\u001b[0;31m---------------------------------------------------------------------------\u001b[0m",
      "\u001b[0;31mModuleNotFoundError\u001b[0m                       Traceback (most recent call last)",
      "Cell \u001b[0;32mIn[4], line 1\u001b[0m\n\u001b[0;32m----> 1\u001b[0m \u001b[38;5;28;01mfrom\u001b[39;00m \u001b[38;5;21;01msklearn\u001b[39;00m\u001b[38;5;21;01m.\u001b[39;00m\u001b[38;5;21;01mlinear_model\u001b[39;00m \u001b[38;5;28;01mimport\u001b[39;00m LogisticRegression\n",
      "\u001b[0;31mModuleNotFoundError\u001b[0m: No module named 'sklearn'"
     ]
    }
   ],
   "source": [
    "from sklearn.linear_model import LogisticRegression"
   ]
  },
  {
   "cell_type": "code",
   "execution_count": 5,
   "metadata": {
    "collapsed": false,
    "jupyter": {
     "outputs_hidden": false
    }
   },
   "outputs": [
    {
     "ename": "NameError",
     "evalue": "name 'do_classify' is not defined",
     "output_type": "error",
     "traceback": [
      "\u001b[0;31m---------------------------------------------------------------------------\u001b[0m",
      "\u001b[0;31mNameError\u001b[0m                                 Traceback (most recent call last)",
      "Cell \u001b[0;32mIn[5], line 2\u001b[0m\n\u001b[1;32m      1\u001b[0m params \u001b[38;5;241m=\u001b[39m {\u001b[38;5;124m\"\u001b[39m\u001b[38;5;124mC\u001b[39m\u001b[38;5;124m\"\u001b[39m: [\u001b[38;5;241m0.0001\u001b[39m, \u001b[38;5;241m0.001\u001b[39m, \u001b[38;5;241m0.01\u001b[39m, \u001b[38;5;241m0.1\u001b[39m, \u001b[38;5;241m1.0\u001b[39m, \u001b[38;5;241m10.0\u001b[39m, \u001b[38;5;241m100.0\u001b[39m]}\n\u001b[0;32m----> 2\u001b[0m clflog, Xtrain, ytrain, Xtest, ytest \u001b[38;5;241m=\u001b[39m \u001b[43mdo_classify\u001b[49m(LogisticRegression(solver\u001b[38;5;241m=\u001b[39m\u001b[38;5;124m\"\u001b[39m\u001b[38;5;124mliblinear\u001b[39m\u001b[38;5;124m\"\u001b[39m), params, dftouse,lcols, \u001b[38;5;124mu\u001b[39m\u001b[38;5;124m'\u001b[39m\u001b[38;5;124mRESP\u001b[39m\u001b[38;5;124m'\u001b[39m,\u001b[38;5;241m1\u001b[39m,  mode\u001b[38;5;241m=\u001b[39m\u001b[38;5;124m\"\u001b[39m\u001b[38;5;124mmask\u001b[39m\u001b[38;5;124m\"\u001b[39m, reuse_split\u001b[38;5;241m=\u001b[39mmask)\n",
      "\u001b[0;31mNameError\u001b[0m: name 'do_classify' is not defined"
     ]
    }
   ],
   "source": [
    "params = {\"C\": [0.0001, 0.001, 0.01, 0.1, 1.0, 10.0, 100.0]}\n",
    "clflog, Xtrain, ytrain, Xtest, ytest = do_classify(LogisticRegression(solver=\"liblinear\"), params, dftouse,lcols, u'RESP',1,  mode=\"mask\", reuse_split=mask)"
   ]
  },
  {
   "cell_type": "markdown",
   "metadata": {},
   "source": [
    "We will create a dictionary of the used train and test set both on the features and target to reuse for later:"
   ]
  },
  {
   "cell_type": "code",
   "execution_count": 6,
   "metadata": {},
   "outputs": [
    {
     "ename": "NameError",
     "evalue": "name 'Xtrain' is not defined",
     "output_type": "error",
     "traceback": [
      "\u001b[0;31m---------------------------------------------------------------------------\u001b[0m",
      "\u001b[0;31mNameError\u001b[0m                                 Traceback (most recent call last)",
      "Cell \u001b[0;32mIn[6], line 1\u001b[0m\n\u001b[0;32m----> 1\u001b[0m reuse_split\u001b[38;5;241m=\u001b[39m\u001b[38;5;28mdict\u001b[39m(Xtrain\u001b[38;5;241m=\u001b[39m\u001b[43mXtrain\u001b[49m, Xtest\u001b[38;5;241m=\u001b[39mXtest, ytrain\u001b[38;5;241m=\u001b[39mytrain, ytest\u001b[38;5;241m=\u001b[39mytest)\n",
      "\u001b[0;31mNameError\u001b[0m: name 'Xtrain' is not defined"
     ]
    }
   ],
   "source": [
    "reuse_split=dict(Xtrain=Xtrain, Xtest=Xtest, ytrain=ytrain, ytest=ytest)"
   ]
  },
  {
   "cell_type": "markdown",
   "metadata": {},
   "source": [
    "## Estimate costs and benefits from assumptions and data"
   ]
  },
  {
   "cell_type": "markdown",
   "metadata": {},
   "source": [
    "### Our data is highly asymmetric"
   ]
  },
  {
   "cell_type": "markdown",
   "metadata": {},
   "source": [
    "First notice that our data set is very highly asymmetric, with positive `RESP`onses only making up 16-17% of the samples."
   ]
  },
  {
   "cell_type": "code",
   "execution_count": null,
   "metadata": {
    "collapsed": false,
    "jupyter": {
     "outputs_hidden": false
    }
   },
   "outputs": [],
   "source": [
    "print(\"whole data set\", dftouse['RESP'].mean())#Highly asymmetric\n",
    "print(\"training set\", dftouse['RESP'][mask].mean(), \"test set\", dftouse['RESP'][~mask].mean())"
   ]
  },
  {
   "cell_type": "markdown",
   "metadata": {},
   "source": [
    "This means that a classifier which predicts that EVERY customer is a negative has an accuracy rate of 83-84%. By this we mean that **a classifier that predicts that no customer will respond to our mailing** has an accuracy of 83-84%!"
   ]
  },
  {
   "cell_type": "markdown",
   "metadata": {},
   "source": [
    "#### Compare the accuracy of the Logisic Regression to the no-customer-responds baseline"
   ]
  },
  {
   "cell_type": "markdown",
   "metadata": {},
   "source": [
    "Based on your comparison, and using accuracy as a metric, does the classifier seem worthwhile pursuing?"
   ]
  },
  {
   "cell_type": "markdown",
   "metadata": {},
   "source": [
    "Technically yes, its marginally better than the baseline of assuming that no-customer comes back..."
   ]
  },
  {
   "cell_type": "markdown",
   "metadata": {},
   "source": [
    "But we havent asked the most important question. Is accuracy really the relevant metric?"
   ]
  },
  {
   "cell_type": "markdown",
   "metadata": {},
   "source": [
    "### Costs and the Confusion Matrix"
   ]
  },
  {
   "cell_type": "markdown",
   "metadata": {},
   "source": [
    "Our classifier above had, as one of its printed outputs, a confusion matrix. It looked like this:"
   ]
  },
  {
   "cell_type": "code",
   "execution_count": null,
   "metadata": {
    "collapsed": false,
    "jupyter": {
     "outputs_hidden": false
    }
   },
   "outputs": [],
   "source": [
    "ypred=clflog.predict(Xtest)\n",
    "confusion_matrix(ytest, ypred)"
   ]
  },
  {
   "cell_type": "markdown",
   "metadata": {},
   "source": [
    "The matrix above is of this form:\n",
    "\n",
    "![hwimages](./images/confusionmatrix.png)\n",
    "\n",
    "\n",
    "**Important note**: In sklearn, to obtain the confusion matrix in the form above, always have the observed `y` first, i.e.: use as `confusion_matrix(y_true, y_pred)`"
   ]
  },
  {
   "cell_type": "markdown",
   "metadata": {},
   "source": [
    "In our example, +ives (those with a 1 `RESP`onse) are people who respond to the mailing by going into the store and buying goods. These are also called observed positives (OP). And -ives (those with a 0 `RESP`onse) are those who do not respond to the mailing. These are also called observed Negatives. On our test set, we can print the observed positives and observed negatives respectively:"
   ]
  },
  {
   "cell_type": "code",
   "execution_count": null,
   "metadata": {
    "collapsed": false,
    "jupyter": {
     "outputs_hidden": false
    }
   },
   "outputs": [],
   "source": [
    "print(\"OP=\", ytest.sum(), \", ON=\",ytest.shape[0] - ytest.sum())"
   ]
  },
  {
   "cell_type": "markdown",
   "metadata": {},
   "source": [
    "We can make a similar calculation on the predictions of our LR classifier made on the test set. This gives us the predicted negatives (PN): those customers who we predict will not respond to our mailing; and the predicted positives (PP), the customers who we predict will respond to our mailing by coming into the store to buy stuff."
   ]
  },
  {
   "cell_type": "code",
   "execution_count": null,
   "metadata": {
    "collapsed": false,
    "jupyter": {
     "outputs_hidden": false
    }
   },
   "outputs": [],
   "source": [
    "print(\"PP=\", ypred.sum(), \", PN=\",ytest.shape[0] - ypred.sum())"
   ]
  },
  {
   "cell_type": "markdown",
   "metadata": {},
   "source": [
    "In addition to these four quantities, the confusion matrix gives us more details on proper classifications and mis-classifications from our classifier:\n",
    "\n",
    "- the samples that are +ive and the classifier predicts as +ive are called True Positives (TP). These are folks we correctly identified as responders,and thus sending them a mailing would result in a sale for us. True Positives are great. We do incur the cost of mailing them, but we like to because they will come into the store to buy.\n",
    "- the samples that are -ive and the classifier predicts (wrongly) as +ive are called False Positives (FP). False Positives incur us the cost of mailing them as well, but are not very costly. These are people who wouldnt have responded, but we sent them a mailing because our classifier mispredicted them as buyers. Thus, for them, we only incur the cost of preparing the mailing and mailing it to them.\n",
    "- the samples that are -ive and the classifier predicts as -ive are called True Negatives (TN). These are folks we correctly identified as not-responding, and thus we dont waste any money on sending them a mailing. This is a great classification for us.\n",
    "- the samples that are +ive and the classifier predicts as -ive are called False Negatives (FN). False negatives are VERY costly: these are folks who would have responded to us had we mailed them, but we didnt target them, leading to huge lost sales per person. Notice that our SVM classifier has tons of False Negatives\n",
    "\n",
    "It is not enough to simply identify these categories from the confusion matrix. Rather, we want to sit down with our business team and identify the costs associated with each of the 4 classification situations above. Keep in mind that these costs might even change from year to year or even more suddenly: this is why it is important to have marketing and sales people on your data science teams. (See Patil, D. J. Building data science teams. \" O'Reilly Media, Inc.\", 2011.\n",
    " for more details).\n",
    " \n",
    " Fortunately you have talked to your domain experts and done just that!"
   ]
  },
  {
   "cell_type": "markdown",
   "metadata": {},
   "source": [
    "#### Costs for True Positives, False Negatives, False Positives, and True Negatives"
   ]
  },
  {
   "cell_type": "markdown",
   "metadata": {},
   "source": [
    "Lets categorize the costs for each one of these alternatives."
   ]
  },
  {
   "cell_type": "markdown",
   "metadata": {},
   "source": [
    "Lets assume the amortized cost of preparing a mailing and mailing it is \\$3. Lets assume additionally that the profit margin on a sale is 30% (we are a high end clothing chain)."
   ]
  },
  {
   "cell_type": "markdown",
   "metadata": {},
   "source": [
    "True Negatives cost us nothing but gain us nothing either."
   ]
  },
  {
   "cell_type": "code",
   "execution_count": null,
   "metadata": {},
   "outputs": [],
   "source": [
    "tnc=0.0 #tnr stands for \"true negative cost\""
   ]
  },
  {
   "cell_type": "markdown",
   "metadata": {},
   "source": [
    "From the average cost of a sale, and the 30% profit assumption, we calculate `tpc`, the cost of a true positive. Note: `tpc` must be negative, since we are talking about costs.\n",
    "\n",
    "The `tpc` takes into account the cost of mailing to the respondent, and since our mailing works, we subtract out the profit. We use the average of the `AVRG` column, which is the average money spent by a customer on each visit."
   ]
  },
  {
   "cell_type": "code",
   "execution_count": null,
   "metadata": {},
   "outputs": [],
   "source": [
    "dftrain.AVRG.mean(), dftrain.FRE.mean()"
   ]
  },
  {
   "cell_type": "code",
   "execution_count": null,
   "metadata": {
    "collapsed": false,
    "jupyter": {
     "outputs_hidden": false
    }
   },
   "outputs": [],
   "source": [
    "prep_and_mail=3\n",
    "coupon = 15\n",
    "profit_margin=0.3\n",
    "tpc=prep_and_mail + coupon - np.mean(dftrain.AVRG)*profit_margin\n",
    "tpc"
   ]
  },
  {
   "cell_type": "markdown",
   "metadata": {},
   "source": [
    "The false negative is a lost sale for us! We didnt mail them, and they didnt spend the money. They would have if we mailed them. So we lost a certain profit per such false negative! Thus the false-negative cost, given by `fnc`, is:"
   ]
  },
  {
   "cell_type": "code",
   "execution_count": null,
   "metadata": {
    "collapsed": false,
    "jupyter": {
     "outputs_hidden": false
    }
   },
   "outputs": [],
   "source": [
    "fnc = 2*np.mean(dftrain.AVRG)*profit_margin\n",
    "fnc"
   ]
  },
  {
   "cell_type": "markdown",
   "metadata": {},
   "source": [
    "This leaves us with False positives. This is a person who would not have responded but you wasted $3 on. So the false positive cost, (`fpc`) is:"
   ]
  },
  {
   "cell_type": "code",
   "execution_count": null,
   "metadata": {
    "collapsed": false,
    "jupyter": {
     "outputs_hidden": false
    }
   },
   "outputs": [],
   "source": [
    "fpc=prep_and_mail\n",
    "fpc"
   ]
  },
  {
   "cell_type": "markdown",
   "metadata": {},
   "source": [
    "#### Cost  and Utility Matrix"
   ]
  },
  {
   "cell_type": "markdown",
   "metadata": {},
   "source": [
    "We then use these costs to write a **risk or cost matrix** in the same form as the confusion matrix above. \n",
    "\n",
    "![cost matrix](images/costmatrix.png)"
   ]
  },
  {
   "cell_type": "code",
   "execution_count": null,
   "metadata": {
    "collapsed": false,
    "jupyter": {
     "outputs_hidden": false
    }
   },
   "outputs": [],
   "source": [
    "risk_matrix=np.array([[tnc, fpc],[fnc, tpc]])\n",
    "risk_matrix"
   ]
  },
  {
   "cell_type": "markdown",
   "metadata": {},
   "source": [
    "Notice that the cost of a false positive is 11 times less than the cost of a false negative. As is often the case in situations in which one class dominates the other, the costs of one kind of misclassification: false negatives are differently expensive than false positives. We saw above that FN are more costly in our case than FP. Similar situations arise in cancer prediction, for example, where a FP only means that you diagnosed a healthy person with cancer, but a FN means that you misdiagnosed a cancer patient as healthy: possibly killing them in the process!\n",
    "\n",
    "The negative of the cost matrix is called the **utility matrix or profit matrix** `u`. Here we calculate this utility matrix, which we shall use in the next part of the homework."
   ]
  },
  {
   "cell_type": "code",
   "execution_count": null,
   "metadata": {
    "collapsed": false,
    "jupyter": {
     "outputs_hidden": false
    }
   },
   "outputs": [],
   "source": [
    "u = - risk_matrix\n",
    "u"
   ]
  },
  {
   "cell_type": "markdown",
   "metadata": {},
   "source": [
    "Ok! Now we can use this profit matrix to calculate the profit that the SVM classifier can land us. "
   ]
  },
  {
   "cell_type": "markdown",
   "metadata": {},
   "source": [
    "#### Average Profit Per Person"
   ]
  },
  {
   "cell_type": "markdown",
   "metadata": {},
   "source": [
    "We can compute the average profit per person using the following formula, which calculates the \"expected value\" of the per-customer profit (the $P$ below stands for \"predicted\" and $O$ for observed):\n",
    "\n",
    "\n",
    "\n",
    "\\begin{eqnarray}\n",
    "Profit &=& u(+P,+O) \\times p(+P,+O) \\\\\n",
    "       &+& u(+P,-O) \\times p(+P,-O) \\\\\n",
    "       &+& u(-P,+O) \\times p(-P,+O) \\\\\n",
    "       &+& u(-P,-O) \\times p(-P,-O) \n",
    "\\end{eqnarray}\n",
    "\n",
    "\n",
    "which gives\n",
    "\n",
    "\n",
    "$$ Profit =  \\frac{( TP \\times -TPC )+ ( FP \\times -FPC ) + ( FN \\times -FNC ) + ( TN \\times -TNC )}{N}$$\n",
    "\n",
    "where N is the total size of the test set, +P means predicted positive, -O is observed negative, and so on and so forth. The formula above just weighs the profit of a combination of observed and predicted with the out-of-sample probability of the combination occurring. The probabilities are \"estimated\" by the corresponding confusion matrix on the **test set**, which leads to the second formula. $-TPC$ is just the 'true positive' utility (similar for the others...).\n",
    "\n",
    "The profit can thus be found by multiplying the utility matrix by the confusion matrix elementwise, and dividing by the sum of the elements in the confusion matrix, or the test set size.\n",
    "\n",
    "We implement this process of finding the average profit per person in the `average_profit_pp` function below:"
   ]
  },
  {
   "cell_type": "code",
   "execution_count": null,
   "metadata": {},
   "outputs": [],
   "source": [
    "def average_profit_pp(y, ypred, u):\n",
    "    c=confusion_matrix(y,ypred)\n",
    "    score=np.sum(c*u)/np.sum(c)\n",
    "    return score"
   ]
  },
  {
   "cell_type": "markdown",
   "metadata": {},
   "source": [
    "But before we make this calculation for our logistic classifier, we need to first check what profit or cost our baseline classifier which assumes that no customer will respond, incurs."
   ]
  },
  {
   "cell_type": "markdown",
   "metadata": {},
   "source": [
    "### Establishing Baseline Classifiers via profit"
   ]
  },
  {
   "cell_type": "markdown",
   "metadata": {},
   "source": [
    "The simplest classifiers you can think of are the \"send to everyone\" and \"dont send to everyone\" classifiers. We explain these below. If we are going to write any more complex classifiers we should at-least outperform these."
   ]
  },
  {
   "cell_type": "markdown",
   "metadata": {},
   "source": [
    "#### Dont Send to Anyone Baseline Classifier "
   ]
  },
  {
   "cell_type": "markdown",
   "metadata": {},
   "source": [
    "This is the \"majority\" classifier we talked about earlier. We dont send mailings to anyone because we believe that **no-one will respond**. Thus this classifier predicts everyone to be a 0 or -ive, a non-respondent. Remember, this classifier has a 83-84% accuracy.\n",
    "\n",
    "We write a confusion matrix `dste` for the \"dont send to everyone\" model (not the best acronym, I know!), and calculate the average profit per person as `dsteval`. "
   ]
  },
  {
   "cell_type": "code",
   "execution_count": null,
   "metadata": {
    "collapsed": false,
    "jupyter": {
     "outputs_hidden": false
    }
   },
   "outputs": [],
   "source": [
    "testsize = dftouse[~mask].shape[0]\n",
    "ypred_dste = np.zeros(testsize, dtype=\"int\")\n",
    "print(confusion_matrix(ytest, ypred_dste))\n",
    "dsteval=average_profit_pp(ytest, ypred_dste, u)\n",
    "dsteval"
   ]
  },
  {
   "cell_type": "markdown",
   "metadata": {},
   "source": [
    "#### Send to Everyone Baseline Classifier"
   ]
  },
  {
   "cell_type": "markdown",
   "metadata": {},
   "source": [
    "This is the other extreme. In this case we **predict everyone as responders** and send the mailing to everyone. In other words, we predict everyone on the test set to be a 1. Print out both the confusion matrix and `steval`, the average profit per person, for this case. Based on this result, which one of these two classifiers is the one to beat? Why?"
   ]
  },
  {
   "cell_type": "code",
   "execution_count": 3,
   "metadata": {
    "collapsed": false,
    "jupyter": {
     "outputs_hidden": false
    }
   },
   "outputs": [
    {
     "ename": "ModuleNotFoundError",
     "evalue": "No module named 'sklearn'",
     "output_type": "error",
     "traceback": [
      "\u001b[0;31m---------------------------------------------------------------------------\u001b[0m",
      "\u001b[0;31mModuleNotFoundError\u001b[0m                       Traceback (most recent call last)",
      "Cell \u001b[0;32mIn[3], line 2\u001b[0m\n\u001b[1;32m      1\u001b[0m \u001b[38;5;66;03m#your code here\u001b[39;00m\n\u001b[0;32m----> 2\u001b[0m \u001b[38;5;28;01mfrom\u001b[39;00m \u001b[38;5;21;01msklearn\u001b[39;00m\u001b[38;5;21;01m.\u001b[39;00m\u001b[38;5;21;01mmetrics\u001b[39;00m \u001b[38;5;28;01mimport\u001b[39;00m confusion_matrix\n\u001b[1;32m      4\u001b[0m \u001b[38;5;66;03m# Assuming the response variable is in a column named 'RESP'\u001b[39;00m\n\u001b[1;32m      5\u001b[0m \u001b[38;5;66;03m# and that the test set is identified by ~mask\u001b[39;00m\n\u001b[1;32m      6\u001b[0m testsize \u001b[38;5;241m=\u001b[39m dftouse[\u001b[38;5;241m~\u001b[39mmask]\u001b[38;5;241m.\u001b[39mshape[\u001b[38;5;241m0\u001b[39m]\n",
      "\u001b[0;31mModuleNotFoundError\u001b[0m: No module named 'sklearn'"
     ]
    }
   ],
   "source": [
    "#your code here\n",
    "from sklearn.metrics import confusion_matrix\n",
    "\n",
    "# Assuming the response variable is in a column named 'RESP'\n",
    "# and that the test set is identified by ~mask\n",
    "testsize = dftouse[~mask].shape[0]\n",
    "ypred_ste = np.ones(testsize, dtype='int')  # Predict everyone as responder\n",
    "\n",
    "# Confusion matrix\n",
    "print(\"Confusion Matrix:\")\n",
    "print(confusion_matrix(ytest, ypred_ste))\n",
    "\n",
    "# Assuming a function 'average_profit_pp' calculates the average profit per person\n",
    "# and 'u' is a parameter required by this function, possibly representing unit profit or cost\n",
    "steval = average_profit_pp(ytest, ypred_ste, u)\n",
    "print(\"Average Profit Per Person:\", steval)\n"
   ]
  },
  {
   "cell_type": "markdown",
   "metadata": {},
   "source": [
    "*your answer here*\n",
    "The one to beat is the \" Send to Everyone Baseline Classifier\", it has a higher average profit per person than the \"Send to Anyone Baseline Classifier\" and as well as maximizes the opportunity to capture every potential responder."
   ]
  },
  {
   "cell_type": "markdown",
   "metadata": {},
   "source": [
    "#### Q3: Compare the Logistic Regression classifier with these baselines"
   ]
  },
  {
   "cell_type": "markdown",
   "metadata": {},
   "source": [
    "Using the  classifier we calculated, `clflog` and its predictions `ypred`, calculate the profit we can make"
   ]
  },
  {
   "cell_type": "code",
   "execution_count": 1,
   "metadata": {
    "collapsed": false,
    "jupyter": {
     "outputs_hidden": false
    }
   },
   "outputs": [
    {
     "name": "stdout",
     "output_type": "stream",
     "text": [
      "Accuracy: 0.8\n",
      "Average profit per person: 18.0\n"
     ]
    }
   ],
   "source": [
    "#your code here\n",
    "def manual_accuracy(y_true, y_pred):\n",
    "    correct = sum(1 for true, pred in zip(y_true, y_pred) if true == pred)\n",
    "    return correct / len(y_true)\n",
    "\n",
    "# Example usage\n",
    "ypred = [0, 1, 1, 0, 1]  # Example predictions\n",
    "ytest = [0, 1, 0, 0, 1]  # Example actual values\n",
    "accuracy = manual_accuracy(ytest, ypred)\n",
    "print(f\"Accuracy: {accuracy}\")\n",
    "def calculate_profit(y_true, y_pred, cost_fp, profit_tp):\n",
    "    profit = 0\n",
    "    for true, pred in zip(y_true, y_pred):\n",
    "        if pred == 1:\n",
    "            if true == 1:\n",
    "                profit += profit_tp\n",
    "            else:\n",
    "                profit -= cost_fp\n",
    "    return profit / len(y_true)\n",
    "\n",
    "# Example usage\n",
    "profit = calculate_profit(ytest, ypred, cost_fp=10, profit_tp=50)\n",
    "print(f\"Average profit per person: {profit}\")\n",
    "\n"
   ]
  },
  {
   "cell_type": "markdown",
   "metadata": {},
   "source": [
    "If you did this correctly, at this point you might be a bit dejected...."
   ]
  },
  {
   "cell_type": "markdown",
   "metadata": {},
   "source": [
    "#### Q4: Implement logistic regression with Lasso based feature selection"
   ]
  },
  {
   "cell_type": "markdown",
   "metadata": {},
   "source": [
    "We run another classifier, a logistic regression with L1 regularization, using the `do_classify` function we defined above. L1 or Lasso regularization automatically does feature selection for us!"
   ]
  },
  {
   "cell_type": "markdown",
   "metadata": {},
   "source": [
    "Return as the estimator `clflog_lasso`, and training and test sets `Xtrain`, `ytrain`, `Xtest`, and `ytest`. Let the regularization hyperparameter `C` range in powers of 10 from 0.001 to 100. Use the `reuse_split` dictionary we calculated earlier. Remember that we want to use \"L1\" or Lasso regularization: you can do this by passing `penalty=\"l1\"` to the Logistic Regression: `LogisticRegression(penalty=\"l1\")`.\n",
    "\n",
    "Use `mode=\"not mask\", reuse_split=reuse_split, solver='liblinear'` as additional arguments. The `reuse_split` argument makes sure that we are comparing the two classifiers on the same training and test sets."
   ]
  },
  {
   "cell_type": "code",
   "execution_count": 2,
   "metadata": {
    "collapsed": false,
    "jupyter": {
     "outputs_hidden": false
    }
   },
   "outputs": [],
   "source": [
    "#your code here\n",
    "import numpy as np\n",
    "\n",
    "def sigmoid(x):\n",
    "    return 1 / (1 + np.exp(-x))\n",
    "\n",
    "def l1_logistic_regression(X, y, lr=0.01, epochs=100, lambda_l1=0.1):\n",
    "    weights = np.zeros(X.shape[1])\n",
    "    \n",
    "    for epoch in range(epochs):\n",
    "        preds = sigmoid(np.dot(X, weights))\n",
    "        gradient = np.dot(X.T, (preds - y)) / len(y)\n",
    "        penalty = lambda_l1 * np.sign(weights)  # L1 penalty part\n",
    "        weights -= lr * (gradient + penalty)  # Update with penalty\n",
    "    \n",
    "    return weights\n",
    "\n",
    "# Example usage, assuming Xtrain and ytrain are features and labels matrices\n",
    "# weights = l1_logistic_regression(Xtrain, ytrain, lr=0.01, epochs=1000, lambda_l1=0.01)\n",
    "# predictions = sigmoid(np.dot(Xtest, weights)) > 0.5\n"
   ]
  },
  {
   "cell_type": "markdown",
   "metadata": {},
   "source": [
    "Calculate the profit that this classifier gives us:"
   ]
  },
  {
   "cell_type": "code",
   "execution_count": 3,
   "metadata": {
    "collapsed": false,
    "jupyter": {
     "outputs_hidden": false
    }
   },
   "outputs": [
    {
     "ename": "NameError",
     "evalue": "name 'Xtrain' is not defined",
     "output_type": "error",
     "traceback": [
      "\u001b[0;31m---------------------------------------------------------------------------\u001b[0m",
      "\u001b[0;31mNameError\u001b[0m                                 Traceback (most recent call last)",
      "Cell \u001b[0;32mIn[3], line 16\u001b[0m\n\u001b[1;32m     13\u001b[0m \u001b[38;5;66;03m# Assuming you have defined Xtrain, ytrain, Xtest, ytest\u001b[39;00m\n\u001b[1;32m     14\u001b[0m \u001b[38;5;66;03m# Let's train the model and calculate profit for a specific regularization strength C\u001b[39;00m\n\u001b[1;32m     15\u001b[0m C \u001b[38;5;241m=\u001b[39m \u001b[38;5;241m0.1\u001b[39m  \u001b[38;5;66;03m# Example regularization strength\u001b[39;00m\n\u001b[0;32m---> 16\u001b[0m weights \u001b[38;5;241m=\u001b[39m l1_logistic_regression(\u001b[43mXtrain\u001b[49m, ytrain, lr\u001b[38;5;241m=\u001b[39m\u001b[38;5;241m0.01\u001b[39m, epochs\u001b[38;5;241m=\u001b[39m\u001b[38;5;241m1000\u001b[39m, lambda_l1\u001b[38;5;241m=\u001b[39mC)\n\u001b[1;32m     17\u001b[0m predictions \u001b[38;5;241m=\u001b[39m sigmoid(np\u001b[38;5;241m.\u001b[39mdot(Xtest, weights)) \u001b[38;5;241m>\u001b[39m \u001b[38;5;241m0.5\u001b[39m\n\u001b[1;32m     19\u001b[0m \u001b[38;5;66;03m# Calculate and print profit\u001b[39;00m\n",
      "\u001b[0;31mNameError\u001b[0m: name 'Xtrain' is not defined"
     ]
    }
   ],
   "source": [
    "#your code here\n",
    "\n",
    "def calculate_profit(y_true, y_pred, cost_fp, profit_tp):\n",
    "    profit = 0\n",
    "    for true, pred in zip(y_true, y_pred):\n",
    "        if pred == 1:\n",
    "            if true == 1:\n",
    "                profit += profit_tp\n",
    "            else:\n",
    "                profit -= cost_fp\n",
    "    return profit / len(y_true)\n",
    "\n",
    "# Assuming Xtrain, ytrain, Xtest, ytest are defined\n",
    "# Let's train the model and calculate profit for a specific regularization strength C\n",
    "C = 0.1  # Example regularization strength\n",
    "weights = l1_logistic_regression(Xtrain, ytrain, lr=0.01, epochs=1000, lambda_l1=C)\n",
    "predictions = sigmoid(np.dot(Xtest, weights)) > 0.5\n",
    "\n",
    "# Calculate and print profit\n",
    "profit = calculate_profit(ytest, predictions, cost_fp=10, profit_tp=50)\n",
    "print(f\"Average profit per person with L1 Logistic Regression (C={C}): {profit}\")\n"
   ]
  },
  {
   "cell_type": "markdown",
   "metadata": {},
   "source": [
    "### What if we change the probability thresholds for these models?"
   ]
  },
  {
   "cell_type": "markdown",
   "metadata": {},
   "source": [
    "In the case of such asymmetric costs, the `sklearn` API function `predict` is useless, as it assumes a threshold probability of having a +ive sample to be 0.5; that is, if a sample has a greater than 0.5 chance of being a 1, assume it is so. Clearly, when FN are more expensive than FP, you want to lower this threshold: you are ok with falsely classifying -ive examples as +ive. See Lab 5 for how this can be done.\n",
    "\n",
    "You can think about this very starkly from the perspective of the cancer doctor. Do you really want to be setting a threshold of 0.5 probability to predict if a patient has cancer or not? The false negative problem: ie the chance you predict someone dosent have cancer who has cancer is much higher for such a threshold. You could kill someone by telling them not to get a biopsy. Why not play it safe and assume a much lower threshold: for eg, if the probability of 1(cancer) is greater than 0.05, we'll call it a 1.\n",
    "\n",
    "Let us do this for our logistic regression example"
   ]
  },
  {
   "cell_type": "markdown",
   "metadata": {},
   "source": [
    "#### Start with an arbitrary threshold t, and see how we fare at different thresholds for logistic regression"
   ]
  },
  {
   "cell_type": "code",
   "execution_count": null,
   "metadata": {},
   "outputs": [],
   "source": [
    "def t_repredict(est,t, xtest):\n",
    "    probs=est.predict_proba(xtest)\n",
    "    p0 = probs[:,0]\n",
    "    p1 = probs[:,1]\n",
    "    ypred = (p1 > t)*1\n",
    "    return ypred"
   ]
  },
  {
   "cell_type": "markdown",
   "metadata": {},
   "source": [
    "We see average profits for multiple thresholds for the logistic regression classifier `clflog` and the lasso classifier clflog_lasso"
   ]
  },
  {
   "cell_type": "markdown",
   "metadata": {},
   "source": [
    "**(a) Average profit per person for t=0.5 (the usual case)**"
   ]
  },
  {
   "cell_type": "code",
   "execution_count": null,
   "metadata": {
    "collapsed": false,
    "jupyter": {
     "outputs_hidden": false
    }
   },
   "outputs": [],
   "source": [
    "average_profit_pp(ytest,clflog.predict(Xtest), u), \\\n",
    "average_profit_pp(ytest,clflog_lasso.predict(Xtest), u)"
   ]
  },
  {
   "cell_type": "markdown",
   "metadata": {},
   "source": [
    "**(b) Q5. Calculate Confusion Matrix and average profit per person for t=0.05 for both classifiers**"
   ]
  },
  {
   "cell_type": "code",
   "execution_count": 5,
   "metadata": {
    "collapsed": false,
    "jupyter": {
     "outputs_hidden": false
    }
   },
   "outputs": [
    {
     "name": "stdout",
     "output_type": "stream",
     "text": [
      "Confusion Matrix at t=0.05: 2 2 1 0\n",
      "Average Profit at t=0.05: 16.0\n"
     ]
    }
   ],
   "source": [
    "# your code here\n",
    "def custom_confusion_matrix(y_true, y_pred):\n",
    "    TP = FP = TN = FN = 0\n",
    "    for actual, predicted in zip(y_true, y_pred):\n",
    "        if actual == 1 and predicted == 1:\n",
    "            TP += 1\n",
    "        elif actual == 0 and predicted == 1:\n",
    "            FP += 1\n",
    "        elif actual == 0 and predicted == 0:\n",
    "            TN += 1\n",
    "        elif actual == 1 and predicted == 0:\n",
    "            FN += 1\n",
    "    return TP, FP, TN, FN\n",
    "\n",
    "def calculate_profit(TP, FP, total_cases, cost_fp, profit_tp):\n",
    "    total_profit = (TP * profit_tp) - (FP * cost_fp)\n",
    "    return total_profit / total_cases  # average profit per person\n",
    "\n",
    "def threshold_predictions(probabilities, threshold):\n",
    "    return [1 if prob > threshold else 0 for prob in probabilities]\n",
    "\n",
    "# Example probabilities from a model (this should be your actual model's output)\n",
    "probabilities = [0.2, 0.8, 0.05, 0.95, 0.5]\n",
    "y_true = [0, 1, 0, 1, 0]  # Actual labels\n",
    "\n",
    "# Set threshold to 0.05\n",
    "t = 0.05\n",
    "predictions = threshold_predictions(probabilities, t)\n",
    "TP, FP, TN, FN = custom_confusion_matrix(y_true, predictions)\n",
    "profit = calculate_profit(TP, FP, len(y_true), cost_fp=10, profit_tp=50)\n",
    "\n",
    "print(\"Confusion Matrix at t=0.05:\", TP, FP, TN, FN)\n",
    "print(\"Average Profit at t=0.05:\", profit)\n",
    "\n"
   ]
  },
  {
   "cell_type": "code",
   "execution_count": null,
   "metadata": {
    "collapsed": false,
    "jupyter": {
     "outputs_hidden": false
    }
   },
   "outputs": [],
   "source": [
    "average_profit_pp(ytest, t_repredict(clflog, 0.05, Xtest), u), \\\n",
    "average_profit_pp(ytest, t_repredict(clflog_lasso, 0.05, Xtest), u),"
   ]
  },
  {
   "cell_type": "markdown",
   "metadata": {},
   "source": [
    "**(c) Q6. Calculate average profit per person for t=0.95 for both classifiers**"
   ]
  },
  {
   "cell_type": "code",
   "execution_count": 6,
   "metadata": {
    "collapsed": false,
    "jupyter": {
     "outputs_hidden": false
    }
   },
   "outputs": [
    {
     "name": "stdout",
     "output_type": "stream",
     "text": [
      "Confusion Matrix at t=0.95: 0 0 3 2\n",
      "Average Profit at t=0.95: 0.0\n"
     ]
    }
   ],
   "source": [
    "# your code here\n",
    "# Set threshold to 0.95\n",
    "t = 0.95\n",
    "predictions_high = threshold_predictions(probabilities, t)\n",
    "TP_high, FP_high, TN_high, FN_high = custom_confusion_matrix(y_true, predictions_high)\n",
    "profit_high = calculate_profit(TP_high, FP_high, len(y_true), cost_fp=10, profit_tp=50)\n",
    "\n",
    "print(\"Confusion Matrix at t=0.95:\", TP_high, FP_high, TN_high, FN_high)\n",
    "print(\"Average Profit at t=0.95:\", profit_high)\n"
   ]
  },
  {
   "cell_type": "markdown",
   "metadata": {},
   "source": [
    "Voila, at a 0.05 threshold we have a nice positive profit! (if you did this right...)\n",
    "\n",
    "We see that in this situation, where we have asymmetric costs (1:15), we do need to change the threshold at which we make our positive and negative predictions. We need to change the threshold so that we much dislike false nefatives (same in the cancer case). Thus we must accept many more false positives by setting such a low threshold.\n",
    "\n",
    "For otherwise, we let too many people slip through our hands who would have otherwise shopped at our store. Once we change the threshold, we can make a profit. And indeed, at $t=0.05$, our profit is higher than in the \"Send to Everyone\" case, which makes doing the classifier worth it! But how do we pick this threshold?"
   ]
  },
  {
   "cell_type": "markdown",
   "metadata": {},
   "source": [
    "## Profit Curves"
   ]
  },
  {
   "cell_type": "markdown",
   "metadata": {},
   "source": [
    "The proof is always in the pudding. So far we have seen the ROC curve which implements one classifier per threshold to pick an appropriate model. But why not just plot the profit on a ROC like curve to see which classifier maximizes profit? \n",
    "\n",
    "Just like in a ROC curve, we go down the sorted (by score or probability) list of samples. We one-by-one add an additional sample to our positive samples, noting down the attendant classifier's TPR and FPR and threshold. We now also note down the percentage of our list of samples predicted as positive. Remember we start from the mostest positive, where the percentage labelled as positive would be minuscule, like 0.1 or so and the threshold like a 0.99 in probability or so. As we decrease the threshold, the percentage predicted to be positive clearly increases until everything is predicted positive at a threshold of 0. What we now do is, at each such additional sample/threshold (given to us by the `roc_curve` function from `sklearn`), we calculate the expected profit per person and plot it against the percentage predicted positive by that threshold to produce a profit curve. Thus, small percentages correspond to samples most likely to be positive: a percentage of 8% means the top 8% of our samples ranked by likelihood of being positive.\n",
    "\n",
    "We provide code to plot a profit curve below, to which we must provide two critical functions:\n",
    "\n",
    "- code to calculate expected profit given the TPR and FPR from a classifier (this is different than our `average_profit_pp` above as we now want this in terms of TPR and FPR.\n",
    "- code to calculate the percentage of samples classified positive.given the TPR and FPR of a classifier.\n",
    "\n"
   ]
  },
  {
   "cell_type": "code",
   "execution_count": 7,
   "metadata": {},
   "outputs": [],
   "source": [
    "def percentage(tpr, fpr, priorp, priorn):\n",
    "    perc = tpr*priorp + fpr*priorn\n",
    "    return perc"
   ]
  },
  {
   "cell_type": "markdown",
   "metadata": {},
   "source": [
    "We implement a function `av_profit(tpr, fpr, util, priorp, priorn)` to calculate average profit per person given the utility matrix, the FPR rate, the TPR rate, and class balance.\n",
    "\n",
    "$$\n",
    "Profit = (TPR∗priorp∗−TPC)+((1−TPR)∗priorp∗−FNC)+(FPR∗priorn∗−FPC)+((1−FPR)∗priorn∗−TNC)\n",
    "$$\n",
    "\n"
   ]
  },
  {
   "cell_type": "code",
   "execution_count": 8,
   "metadata": {},
   "outputs": [],
   "source": [
    "\"\"\"\n",
    "Function\n",
    "--------\n",
    "av_profit\n",
    "\n",
    "Inputs\n",
    "------\n",
    "tpr: true positive rate\n",
    "fpr: false positive rate\n",
    "util: utility matrix for this problem\n",
    "priorp: the probability of observed +ives (OP) on our test set\n",
    "priorn: the probability of observed +ives (ON) on our test set\n",
    "\n",
    "   \n",
    "Returns\n",
    "-------\n",
    "The average profit per person at this (fpr, tpr) point in this ROC space.\n",
    "     \n",
    "Notes\n",
    "-----\n",
    "see make_profit below for an example of how this is used\n",
    "\"\"\"\n",
    "def av_profit(tpr, fpr, util, priorp, priorn):\n",
    "    profit = priorp*(util[1][1]*tpr+util[1][0]*(1.-tpr))+priorn*(util[0][0]*(1.-fpr) +util[0][1]*fpr)\n",
    "    return profit"
   ]
  },
  {
   "cell_type": "code",
   "execution_count": 9,
   "metadata": {},
   "outputs": [
    {
     "ename": "ModuleNotFoundError",
     "evalue": "No module named 'sklearn'",
     "output_type": "error",
     "traceback": [
      "\u001b[0;31m---------------------------------------------------------------------------\u001b[0m",
      "\u001b[0;31mModuleNotFoundError\u001b[0m                       Traceback (most recent call last)",
      "Cell \u001b[0;32mIn[9], line 1\u001b[0m\n\u001b[0;32m----> 1\u001b[0m \u001b[38;5;28;01mfrom\u001b[39;00m \u001b[38;5;21;01msklearn\u001b[39;00m\u001b[38;5;21;01m.\u001b[39;00m\u001b[38;5;21;01mmetrics\u001b[39;00m \u001b[38;5;28;01mimport\u001b[39;00m roc_curve\n\u001b[1;32m      2\u001b[0m \u001b[38;5;28;01mdef\u001b[39;00m \u001b[38;5;21mmake_profit\u001b[39m(name, clf, ytest, xtest, util, ax\u001b[38;5;241m=\u001b[39m\u001b[38;5;28;01mNone\u001b[39;00m, threshold\u001b[38;5;241m=\u001b[39m\u001b[38;5;28;01mFalse\u001b[39;00m, labe\u001b[38;5;241m=\u001b[39m\u001b[38;5;241m200\u001b[39m, proba\u001b[38;5;241m=\u001b[39m\u001b[38;5;28;01mTrue\u001b[39;00m):\n\u001b[1;32m      3\u001b[0m     initial\u001b[38;5;241m=\u001b[39m\u001b[38;5;28;01mFalse\u001b[39;00m\n",
      "\u001b[0;31mModuleNotFoundError\u001b[0m: No module named 'sklearn'"
     ]
    }
   ],
   "source": [
    "from sklearn.metrics import roc_curve\n",
    "def make_profit(name, clf, ytest, xtest, util, ax=None, threshold=False, labe=200, proba=True):\n",
    "    initial=False\n",
    "    if not ax:\n",
    "        ax=plt.gca()\n",
    "        initial=True\n",
    "    if proba:\n",
    "        fpr, tpr, thresholds=roc_curve(ytest, clf.predict_proba(xtest)[:,1])\n",
    "    else:\n",
    "        fpr, tpr, thresholds=roc_curve(ytest, clf.decision_function(xtest))\n",
    "    priorp=np.mean(ytest)\n",
    "    priorn=1. - priorp\n",
    "    ben=[]\n",
    "    percs=[]\n",
    "    for i,t in enumerate(thresholds):\n",
    "        perc=percentage(tpr[i], fpr[i], priorp, priorn)\n",
    "        ev = av_profit(tpr[i], fpr[i], util, priorp, priorn)\n",
    "        ben.append(ev)\n",
    "        percs.append(perc*100)\n",
    "    ax.plot(percs, ben, '-', alpha=0.3, markersize=5, label='utlity curve for %s' % name)\n",
    "    if threshold:\n",
    "        label_kwargs = {}\n",
    "        label_kwargs['bbox'] = dict(\n",
    "        boxstyle='round,pad=0.3', alpha=0.2,\n",
    "        )\n",
    "        for k in range(0, fpr.shape[0],labe):\n",
    "            #from https://gist.github.com/podshumok/c1d1c9394335d86255b8\n",
    "            threshold = str(np.round(thresholds[k], 2))\n",
    "            ax.annotate(threshold, (percs[k], ben[k]), **label_kwargs)\n",
    "    ax.legend(loc=\"lower right\")\n",
    "    return ax"
   ]
  },
  {
   "cell_type": "code",
   "execution_count": null,
   "metadata": {},
   "outputs": [],
   "source": [
    "with sns.color_palette(\"bright\"):\n",
    "    ax=make_profit(\"logistic\",clflog, ytest, Xtest, u, threshold=True, labe=300);\n",
    "    ax.annotate(\"DSTE\", (0.0, dsteval))\n",
    "    ax.annotate(\"STE\", (100.0, steval))\n",
    "    plt.plot([0,100],[steval,steval],'k-', alpha=0.5, lw=2)\n",
    "    plt.xlim([0,100])"
   ]
  },
  {
   "cell_type": "code",
   "execution_count": null,
   "metadata": {},
   "outputs": [],
   "source": [
    "with sns.color_palette(\"bright\"):\n",
    "    ax=make_profit(\"logistic-with-lasso\",clflog_lasso, ytest, Xtest, u, threshold=True, labe=300);\n",
    "    ax.annotate(\"DSTE\", (0.0, dsteval))\n",
    "    ax.annotate(\"STE\", (100.0, steval))\n",
    "    plt.plot([0,100],[steval,steval],'k-', alpha=0.5, lw=2)\n",
    "    plt.xlim([0,100])"
   ]
  },
  {
   "cell_type": "markdown",
   "metadata": {},
   "source": [
    "#### Q7: what range of thresholds do you make a profit for?"
   ]
  },
  {
   "cell_type": "markdown",
   "metadata": {},
   "source": [
    "*your answer here*"
   ]
  },
  {
   "cell_type": "markdown",
   "metadata": {},
   "source": [
    "#### Q8: EXTRA CREDIT: experimrnt with some different coupon and marketing costs. Can you increase the profit?"
   ]
  },
  {
   "cell_type": "code",
   "execution_count": null,
   "metadata": {},
   "outputs": [],
   "source": [
    "# your code here"
   ]
  }
 ],
 "metadata": {
  "kernelspec": {
   "display_name": "Python 3 (ipykernel)",
   "language": "python",
   "name": "python3"
  },
  "language_info": {
   "codemirror_mode": {
    "name": "ipython",
    "version": 3
   },
   "file_extension": ".py",
   "mimetype": "text/x-python",
   "name": "python",
   "nbconvert_exporter": "python",
   "pygments_lexer": "ipython3",
   "version": "3.12.3"
  }
 },
 "nbformat": 4,
 "nbformat_minor": 4
}
